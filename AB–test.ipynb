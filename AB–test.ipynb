{
 "cells": [
  {
   "cell_type": "markdown",
   "id": "9ab287dc-a21b-4148-bf56-90eeee556f6e",
   "metadata": {},
   "source": [
    "A/B–тестирование. В ходе тестирования одной гипотезы целевой группе была предложена новая механика оплаты услуг на сайте, у контрольной группы оставалась базовая механика. Необходимо проанализировать итоги эксперимента и сделать вывод, стоит ли запускать новую механику оплаты на всех пользователей."
   ]
  },
  {
   "cell_type": "markdown",
   "id": "2d42074f-6925-49fe-9ee9-1d3c37818703",
   "metadata": {},
   "source": [
    "В качестве входных данных Вы имеете 4 файла:\n",
    "- groups - файл с информацией о принадлежности пользователя к контрольной или экспериментальной группе (А – контроль, B – целевая группа) \n",
    "- groups_add - дополнительный файл с пользователями, который вам прислали спустя 2 дня после передачи данных\n",
    "- active_studs - файл с информацией о пользователях, которые зашли на платформу в дни проведения эксперимента. \n",
    "- checks - файл с информацией об оплатах пользователей в дни проведения эксперимента. \n"
   ]
  },
  {
   "cell_type": "code",
   "execution_count": 144,
   "id": "7f0cc803-3df1-469e-b392-35049dc6574a",
   "metadata": {},
   "outputs": [],
   "source": [
    "import pandas as pd\n",
    "import pingouin as pg\n",
    "import requests\n",
    "import json\n",
    "import seaborn as sns"
   ]
  },
  {
   "cell_type": "code",
   "execution_count": 5,
   "id": "8d49d6a2-0e89-4743-97b0-6d1bc82892b6",
   "metadata": {},
   "outputs": [],
   "source": [
    "# Список ссылок\n",
    "file_ids = [\n",
    "    \"1x4yb0h5vbUHrN-nWk8XKv2n9CX1n_GH8\",\n",
    "    \"17Ulct1PGnDew7i_X3yxG0KaEyD4LHXAU\",\n",
    "    \"12J1SuOrcNCg4yhRmU8Hxm4k-G018H_WZ\",\n",
    "    \"1xjb4qmZTULegxeA0r13K32BQwJIxHR40\"\n",
    "]"
   ]
  },
  {
   "cell_type": "code",
   "execution_count": 11,
   "id": "715c8859-e316-4444-9828-eb6b1437839c",
   "metadata": {},
   "outputs": [],
   "source": [
    "dfs = []\n",
    "\n",
    "for file_id in file_ids:\n",
    "    url = f\"https://drive.google.com/uc?id={file_id}\"\n",
    "    response = requests.get(url)\n",
    "    data = json.loads(response.text)\n",
    "    df = pd.DataFrame(data)\n",
    "    dfs.append(df)"
   ]
  },
  {
   "cell_type": "code",
   "execution_count": 19,
   "id": "71cf48f0-966d-4187-9905-f6771f3fc37f",
   "metadata": {},
   "outputs": [],
   "source": [
    "checks = dfs[0]\n",
    "groups = dfs[1]\n",
    "groups_add = dfs[2]\n",
    "active_studs = dfs[3]"
   ]
  },
  {
   "cell_type": "markdown",
   "id": "e555e3c8-6eae-4444-a747-7893c0afcc26",
   "metadata": {},
   "source": [
    "## EDA"
   ]
  },
  {
   "cell_type": "markdown",
   "id": "1c8308e2-39b1-4ede-851a-3d257563f01d",
   "metadata": {},
   "source": [
    "### checks"
   ]
  },
  {
   "cell_type": "code",
   "execution_count": 21,
   "id": "56e039e4-ead1-44ce-b312-03fb280e3860",
   "metadata": {},
   "outputs": [
    {
     "data": {
      "text/html": [
       "<div>\n",
       "<style scoped>\n",
       "    .dataframe tbody tr th:only-of-type {\n",
       "        vertical-align: middle;\n",
       "    }\n",
       "\n",
       "    .dataframe tbody tr th {\n",
       "        vertical-align: top;\n",
       "    }\n",
       "\n",
       "    .dataframe thead th {\n",
       "        text-align: right;\n",
       "    }\n",
       "</style>\n",
       "<table border=\"1\" class=\"dataframe\">\n",
       "  <thead>\n",
       "    <tr style=\"text-align: right;\">\n",
       "      <th></th>\n",
       "      <th>student_id</th>\n",
       "      <th>rev</th>\n",
       "    </tr>\n",
       "  </thead>\n",
       "  <tbody>\n",
       "    <tr>\n",
       "      <th>0</th>\n",
       "      <td>1627</td>\n",
       "      <td>990.0</td>\n",
       "    </tr>\n",
       "    <tr>\n",
       "      <th>1</th>\n",
       "      <td>3185</td>\n",
       "      <td>690.0</td>\n",
       "    </tr>\n",
       "    <tr>\n",
       "      <th>2</th>\n",
       "      <td>25973</td>\n",
       "      <td>690.0</td>\n",
       "    </tr>\n",
       "    <tr>\n",
       "      <th>3</th>\n",
       "      <td>26280</td>\n",
       "      <td>690.0</td>\n",
       "    </tr>\n",
       "    <tr>\n",
       "      <th>4</th>\n",
       "      <td>100300</td>\n",
       "      <td>990.0</td>\n",
       "    </tr>\n",
       "  </tbody>\n",
       "</table>\n",
       "</div>"
      ],
      "text/plain": [
       "   student_id    rev\n",
       "0        1627  990.0\n",
       "1        3185  690.0\n",
       "2       25973  690.0\n",
       "3       26280  690.0\n",
       "4      100300  990.0"
      ]
     },
     "execution_count": 21,
     "metadata": {},
     "output_type": "execute_result"
    }
   ],
   "source": [
    "checks.head()"
   ]
  },
  {
   "cell_type": "code",
   "execution_count": 28,
   "id": "22238bc9-9ae7-4b0b-9ff4-6d0bc299f59e",
   "metadata": {},
   "outputs": [
    {
     "name": "stdout",
     "output_type": "stream",
     "text": [
      "кол-во строк - 541, кол-во столбцов 2\n"
     ]
    }
   ],
   "source": [
    "print(f'кол-во строк - {checks.shape[0]}, кол-во столбцов {checks.shape[1]}')"
   ]
  },
  {
   "cell_type": "code",
   "execution_count": 29,
   "id": "cf8016a7-586a-4819-8b14-c0e27275a7b7",
   "metadata": {},
   "outputs": [
    {
     "data": {
      "text/plain": [
       "student_id      int64\n",
       "rev           float64\n",
       "dtype: object"
      ]
     },
     "execution_count": 29,
     "metadata": {},
     "output_type": "execute_result"
    }
   ],
   "source": [
    "checks.dtypes"
   ]
  },
  {
   "cell_type": "code",
   "execution_count": 22,
   "id": "eedbdab5-c5ad-4d27-885c-3fa5d31c613a",
   "metadata": {},
   "outputs": [
    {
     "data": {
      "text/plain": [
       "student_id    0\n",
       "rev           0\n",
       "dtype: int64"
      ]
     },
     "execution_count": 22,
     "metadata": {},
     "output_type": "execute_result"
    }
   ],
   "source": [
    "checks.isna().sum()"
   ]
  },
  {
   "cell_type": "code",
   "execution_count": 23,
   "id": "9366dd23-c1b8-410d-af2b-73f45a2f963f",
   "metadata": {},
   "outputs": [
    {
     "data": {
      "text/plain": [
       "0"
      ]
     },
     "execution_count": 23,
     "metadata": {},
     "output_type": "execute_result"
    }
   ],
   "source": [
    "checks.duplicated().sum()"
   ]
  },
  {
   "cell_type": "markdown",
   "id": "50295c2f-c1a8-4a3a-9432-b223503e1bb2",
   "metadata": {},
   "source": [
    "### groups"
   ]
  },
  {
   "cell_type": "code",
   "execution_count": 30,
   "id": "9d93fd14-2fae-4ab9-a2bf-0658affb7394",
   "metadata": {},
   "outputs": [
    {
     "data": {
      "text/html": [
       "<div>\n",
       "<style scoped>\n",
       "    .dataframe tbody tr th:only-of-type {\n",
       "        vertical-align: middle;\n",
       "    }\n",
       "\n",
       "    .dataframe tbody tr th {\n",
       "        vertical-align: top;\n",
       "    }\n",
       "\n",
       "    .dataframe thead th {\n",
       "        text-align: right;\n",
       "    }\n",
       "</style>\n",
       "<table border=\"1\" class=\"dataframe\">\n",
       "  <thead>\n",
       "    <tr style=\"text-align: right;\">\n",
       "      <th></th>\n",
       "      <th>id</th>\n",
       "      <th>grp</th>\n",
       "    </tr>\n",
       "  </thead>\n",
       "  <tbody>\n",
       "    <tr>\n",
       "      <th>0</th>\n",
       "      <td>5694584</td>\n",
       "      <td>B</td>\n",
       "    </tr>\n",
       "    <tr>\n",
       "      <th>1</th>\n",
       "      <td>5694830</td>\n",
       "      <td>B</td>\n",
       "    </tr>\n",
       "    <tr>\n",
       "      <th>2</th>\n",
       "      <td>5695057</td>\n",
       "      <td>B</td>\n",
       "    </tr>\n",
       "    <tr>\n",
       "      <th>3</th>\n",
       "      <td>5698872</td>\n",
       "      <td>B</td>\n",
       "    </tr>\n",
       "    <tr>\n",
       "      <th>4</th>\n",
       "      <td>5699067</td>\n",
       "      <td>B</td>\n",
       "    </tr>\n",
       "  </tbody>\n",
       "</table>\n",
       "</div>"
      ],
      "text/plain": [
       "        id grp\n",
       "0  5694584   B\n",
       "1  5694830   B\n",
       "2  5695057   B\n",
       "3  5698872   B\n",
       "4  5699067   B"
      ]
     },
     "execution_count": 30,
     "metadata": {},
     "output_type": "execute_result"
    }
   ],
   "source": [
    "groups.head()"
   ]
  },
  {
   "cell_type": "code",
   "execution_count": 31,
   "id": "2b1c86d9-59d8-44d7-95c2-9ea834a7c99b",
   "metadata": {},
   "outputs": [
    {
     "name": "stdout",
     "output_type": "stream",
     "text": [
      "кол-во строк - 92, кол-во столбцов 2\n"
     ]
    }
   ],
   "source": [
    "print(f'кол-во строк - {groups.shape[0]}, кол-во столбцов {groups.shape[1]}')"
   ]
  },
  {
   "cell_type": "code",
   "execution_count": 32,
   "id": "b75a9449-b95d-4cae-b643-fd6a3b88293f",
   "metadata": {},
   "outputs": [
    {
     "data": {
      "text/plain": [
       "id      int64\n",
       "grp    object\n",
       "dtype: object"
      ]
     },
     "execution_count": 32,
     "metadata": {},
     "output_type": "execute_result"
    }
   ],
   "source": [
    "groups.dtypes"
   ]
  },
  {
   "cell_type": "code",
   "execution_count": 33,
   "id": "cfaf8b19-baa5-4d80-b7f4-7e6628253b99",
   "metadata": {},
   "outputs": [
    {
     "data": {
      "text/plain": [
       "id     0\n",
       "grp    0\n",
       "dtype: int64"
      ]
     },
     "execution_count": 33,
     "metadata": {},
     "output_type": "execute_result"
    }
   ],
   "source": [
    "groups.isna().sum()"
   ]
  },
  {
   "cell_type": "code",
   "execution_count": 34,
   "id": "81137a8c-ec4d-479f-be54-9862e709b7bd",
   "metadata": {},
   "outputs": [
    {
     "data": {
      "text/plain": [
       "0"
      ]
     },
     "execution_count": 34,
     "metadata": {},
     "output_type": "execute_result"
    }
   ],
   "source": [
    "groups.duplicated().sum()"
   ]
  },
  {
   "cell_type": "markdown",
   "id": "146b5268-fa7a-4853-80e8-2585731f2ce1",
   "metadata": {},
   "source": [
    "### groups_add"
   ]
  },
  {
   "cell_type": "code",
   "execution_count": 35,
   "id": "0039a010-b5a0-47eb-b730-176d6658351b",
   "metadata": {},
   "outputs": [
    {
     "data": {
      "text/html": [
       "<div>\n",
       "<style scoped>\n",
       "    .dataframe tbody tr th:only-of-type {\n",
       "        vertical-align: middle;\n",
       "    }\n",
       "\n",
       "    .dataframe tbody tr th {\n",
       "        vertical-align: top;\n",
       "    }\n",
       "\n",
       "    .dataframe thead th {\n",
       "        text-align: right;\n",
       "    }\n",
       "</style>\n",
       "<table border=\"1\" class=\"dataframe\">\n",
       "  <thead>\n",
       "    <tr style=\"text-align: right;\">\n",
       "      <th></th>\n",
       "      <th>id</th>\n",
       "      <th>grp</th>\n",
       "    </tr>\n",
       "  </thead>\n",
       "  <tbody>\n",
       "    <tr>\n",
       "      <th>0</th>\n",
       "      <td>1489</td>\n",
       "      <td>B</td>\n",
       "    </tr>\n",
       "    <tr>\n",
       "      <th>1</th>\n",
       "      <td>1627</td>\n",
       "      <td>A</td>\n",
       "    </tr>\n",
       "    <tr>\n",
       "      <th>2</th>\n",
       "      <td>1768</td>\n",
       "      <td>B</td>\n",
       "    </tr>\n",
       "    <tr>\n",
       "      <th>3</th>\n",
       "      <td>1783</td>\n",
       "      <td>B</td>\n",
       "    </tr>\n",
       "    <tr>\n",
       "      <th>4</th>\n",
       "      <td>1794</td>\n",
       "      <td>A</td>\n",
       "    </tr>\n",
       "  </tbody>\n",
       "</table>\n",
       "</div>"
      ],
      "text/plain": [
       "     id grp\n",
       "0  1489   B\n",
       "1  1627   A\n",
       "2  1768   B\n",
       "3  1783   B\n",
       "4  1794   A"
      ]
     },
     "execution_count": 35,
     "metadata": {},
     "output_type": "execute_result"
    }
   ],
   "source": [
    "groups_add.head()"
   ]
  },
  {
   "cell_type": "code",
   "execution_count": 36,
   "id": "8fdb50ea-4248-482e-8b4b-2c0b28396b49",
   "metadata": {},
   "outputs": [
    {
     "name": "stdout",
     "output_type": "stream",
     "text": [
      "кол-во строк - 74484, кол-во столбцов 2\n"
     ]
    }
   ],
   "source": [
    "print(f'кол-во строк - {groups_add.shape[0]}, кол-во столбцов {groups_add.shape[1]}')"
   ]
  },
  {
   "cell_type": "code",
   "execution_count": 37,
   "id": "c07ba97e-62ec-4161-b230-c6866f76ec57",
   "metadata": {},
   "outputs": [
    {
     "data": {
      "text/plain": [
       "id      int64\n",
       "grp    object\n",
       "dtype: object"
      ]
     },
     "execution_count": 37,
     "metadata": {},
     "output_type": "execute_result"
    }
   ],
   "source": [
    "groups_add.dtypes"
   ]
  },
  {
   "cell_type": "code",
   "execution_count": 38,
   "id": "c88599c2-3e94-420d-8fae-51db599306a7",
   "metadata": {},
   "outputs": [
    {
     "data": {
      "text/plain": [
       "id     0\n",
       "grp    0\n",
       "dtype: int64"
      ]
     },
     "execution_count": 38,
     "metadata": {},
     "output_type": "execute_result"
    }
   ],
   "source": [
    "groups_add.isna().sum()"
   ]
  },
  {
   "cell_type": "code",
   "execution_count": 39,
   "id": "fdfee671-c522-4475-8fc5-4d729eeaa4ae",
   "metadata": {},
   "outputs": [
    {
     "data": {
      "text/plain": [
       "0"
      ]
     },
     "execution_count": 39,
     "metadata": {},
     "output_type": "execute_result"
    }
   ],
   "source": [
    "groups_add.duplicated().sum()"
   ]
  },
  {
   "cell_type": "markdown",
   "id": "0fd4ef01-a14c-4e7f-b17b-be61089cc24c",
   "metadata": {},
   "source": [
    "### active_studs"
   ]
  },
  {
   "cell_type": "code",
   "execution_count": 40,
   "id": "67e97d40-2215-407a-8dce-b962d3f269ef",
   "metadata": {},
   "outputs": [
    {
     "data": {
      "text/html": [
       "<div>\n",
       "<style scoped>\n",
       "    .dataframe tbody tr th:only-of-type {\n",
       "        vertical-align: middle;\n",
       "    }\n",
       "\n",
       "    .dataframe tbody tr th {\n",
       "        vertical-align: top;\n",
       "    }\n",
       "\n",
       "    .dataframe thead th {\n",
       "        text-align: right;\n",
       "    }\n",
       "</style>\n",
       "<table border=\"1\" class=\"dataframe\">\n",
       "  <thead>\n",
       "    <tr style=\"text-align: right;\">\n",
       "      <th></th>\n",
       "      <th>student_id</th>\n",
       "    </tr>\n",
       "  </thead>\n",
       "  <tbody>\n",
       "    <tr>\n",
       "      <th>0</th>\n",
       "      <td>581585</td>\n",
       "    </tr>\n",
       "    <tr>\n",
       "      <th>1</th>\n",
       "      <td>5723133</td>\n",
       "    </tr>\n",
       "    <tr>\n",
       "      <th>2</th>\n",
       "      <td>3276743</td>\n",
       "    </tr>\n",
       "    <tr>\n",
       "      <th>3</th>\n",
       "      <td>4238589</td>\n",
       "    </tr>\n",
       "    <tr>\n",
       "      <th>4</th>\n",
       "      <td>4475369</td>\n",
       "    </tr>\n",
       "  </tbody>\n",
       "</table>\n",
       "</div>"
      ],
      "text/plain": [
       "   student_id\n",
       "0      581585\n",
       "1     5723133\n",
       "2     3276743\n",
       "3     4238589\n",
       "4     4475369"
      ]
     },
     "execution_count": 40,
     "metadata": {},
     "output_type": "execute_result"
    }
   ],
   "source": [
    "active_studs.head()"
   ]
  },
  {
   "cell_type": "code",
   "execution_count": 41,
   "id": "dbea53ad-f594-462a-a6e5-54dd7df9892c",
   "metadata": {},
   "outputs": [
    {
     "name": "stdout",
     "output_type": "stream",
     "text": [
      "кол-во строк - 8341, кол-во столбцов 1\n"
     ]
    }
   ],
   "source": [
    "print(f'кол-во строк - {active_studs.shape[0]}, кол-во столбцов {active_studs.shape[1]}')"
   ]
  },
  {
   "cell_type": "code",
   "execution_count": 42,
   "id": "de68b664-67ab-408c-9fef-be37f5216feb",
   "metadata": {},
   "outputs": [
    {
     "data": {
      "text/plain": [
       "student_id    int64\n",
       "dtype: object"
      ]
     },
     "execution_count": 42,
     "metadata": {},
     "output_type": "execute_result"
    }
   ],
   "source": [
    "active_studs.dtypes"
   ]
  },
  {
   "cell_type": "code",
   "execution_count": 43,
   "id": "3db7bac8-2d3e-4bfe-9b79-b46140959747",
   "metadata": {},
   "outputs": [
    {
     "data": {
      "text/plain": [
       "student_id    0\n",
       "dtype: int64"
      ]
     },
     "execution_count": 43,
     "metadata": {},
     "output_type": "execute_result"
    }
   ],
   "source": [
    "active_studs.isna().sum()"
   ]
  },
  {
   "cell_type": "code",
   "execution_count": 44,
   "id": "d4d53caf-a379-4829-9595-c48359db6054",
   "metadata": {},
   "outputs": [
    {
     "data": {
      "text/plain": [
       "0"
      ]
     },
     "execution_count": 44,
     "metadata": {},
     "output_type": "execute_result"
    }
   ],
   "source": [
    "active_studs.duplicated().sum()"
   ]
  },
  {
   "cell_type": "markdown",
   "id": "600a5d5e-3198-4ddb-9fcf-c2282803398f",
   "metadata": {},
   "source": [
    "С данными все хорошо, нет дублиткатов, пропусков, формат данных соответствует нужному типу. "
   ]
  },
  {
   "cell_type": "markdown",
   "id": "99df02b0-d2d0-4674-bc32-ec157848450e",
   "metadata": {},
   "source": [
    "Объеденим groups и groups_add(который нам прислали через 2 дня)"
   ]
  },
  {
   "cell_type": "code",
   "execution_count": 46,
   "id": "76bedea9-f8c0-453e-a197-f2a844719149",
   "metadata": {},
   "outputs": [
    {
     "data": {
      "text/html": [
       "<div>\n",
       "<style scoped>\n",
       "    .dataframe tbody tr th:only-of-type {\n",
       "        vertical-align: middle;\n",
       "    }\n",
       "\n",
       "    .dataframe tbody tr th {\n",
       "        vertical-align: top;\n",
       "    }\n",
       "\n",
       "    .dataframe thead th {\n",
       "        text-align: right;\n",
       "    }\n",
       "</style>\n",
       "<table border=\"1\" class=\"dataframe\">\n",
       "  <thead>\n",
       "    <tr style=\"text-align: right;\">\n",
       "      <th></th>\n",
       "      <th>id</th>\n",
       "      <th>grp</th>\n",
       "    </tr>\n",
       "  </thead>\n",
       "  <tbody>\n",
       "    <tr>\n",
       "      <th>0</th>\n",
       "      <td>5694584</td>\n",
       "      <td>B</td>\n",
       "    </tr>\n",
       "    <tr>\n",
       "      <th>1</th>\n",
       "      <td>5694830</td>\n",
       "      <td>B</td>\n",
       "    </tr>\n",
       "    <tr>\n",
       "      <th>2</th>\n",
       "      <td>5695057</td>\n",
       "      <td>B</td>\n",
       "    </tr>\n",
       "    <tr>\n",
       "      <th>3</th>\n",
       "      <td>5698872</td>\n",
       "      <td>B</td>\n",
       "    </tr>\n",
       "    <tr>\n",
       "      <th>4</th>\n",
       "      <td>5699067</td>\n",
       "      <td>B</td>\n",
       "    </tr>\n",
       "  </tbody>\n",
       "</table>\n",
       "</div>"
      ],
      "text/plain": [
       "        id grp\n",
       "0  5694584   B\n",
       "1  5694830   B\n",
       "2  5695057   B\n",
       "3  5698872   B\n",
       "4  5699067   B"
      ]
     },
     "execution_count": 46,
     "metadata": {},
     "output_type": "execute_result"
    }
   ],
   "source": [
    "groups.head()"
   ]
  },
  {
   "cell_type": "code",
   "execution_count": 47,
   "id": "897facd1-f0ee-485a-91a2-e6db1d2d357b",
   "metadata": {},
   "outputs": [],
   "source": [
    "all_groups = pd.concat([groups, groups_add])"
   ]
  },
  {
   "cell_type": "code",
   "execution_count": 48,
   "id": "c55b011c-a5e8-41f5-9d57-5c354a42130d",
   "metadata": {},
   "outputs": [
    {
     "data": {
      "text/html": [
       "<div>\n",
       "<style scoped>\n",
       "    .dataframe tbody tr th:only-of-type {\n",
       "        vertical-align: middle;\n",
       "    }\n",
       "\n",
       "    .dataframe tbody tr th {\n",
       "        vertical-align: top;\n",
       "    }\n",
       "\n",
       "    .dataframe thead th {\n",
       "        text-align: right;\n",
       "    }\n",
       "</style>\n",
       "<table border=\"1\" class=\"dataframe\">\n",
       "  <thead>\n",
       "    <tr style=\"text-align: right;\">\n",
       "      <th></th>\n",
       "      <th>id</th>\n",
       "      <th>grp</th>\n",
       "    </tr>\n",
       "  </thead>\n",
       "  <tbody>\n",
       "    <tr>\n",
       "      <th>0</th>\n",
       "      <td>5694584</td>\n",
       "      <td>B</td>\n",
       "    </tr>\n",
       "    <tr>\n",
       "      <th>1</th>\n",
       "      <td>5694830</td>\n",
       "      <td>B</td>\n",
       "    </tr>\n",
       "    <tr>\n",
       "      <th>2</th>\n",
       "      <td>5695057</td>\n",
       "      <td>B</td>\n",
       "    </tr>\n",
       "    <tr>\n",
       "      <th>3</th>\n",
       "      <td>5698872</td>\n",
       "      <td>B</td>\n",
       "    </tr>\n",
       "    <tr>\n",
       "      <th>4</th>\n",
       "      <td>5699067</td>\n",
       "      <td>B</td>\n",
       "    </tr>\n",
       "  </tbody>\n",
       "</table>\n",
       "</div>"
      ],
      "text/plain": [
       "        id grp\n",
       "0  5694584   B\n",
       "1  5694830   B\n",
       "2  5695057   B\n",
       "3  5698872   B\n",
       "4  5699067   B"
      ]
     },
     "execution_count": 48,
     "metadata": {},
     "output_type": "execute_result"
    }
   ],
   "source": [
    "all_groups.head()"
   ]
  },
  {
   "cell_type": "code",
   "execution_count": 50,
   "id": "3ffe7c2f-42da-4530-aa67-8e349d99c853",
   "metadata": {},
   "outputs": [
    {
     "data": {
      "text/plain": [
       "(74576, 2)"
      ]
     },
     "execution_count": 50,
     "metadata": {},
     "output_type": "execute_result"
    }
   ],
   "source": [
    "all_groups.shape"
   ]
  },
  {
   "cell_type": "code",
   "execution_count": 53,
   "id": "01dcfddb-8be2-4373-988c-cf5cc1b269c3",
   "metadata": {},
   "outputs": [
    {
     "data": {
      "text/plain": [
       "0"
      ]
     },
     "execution_count": 53,
     "metadata": {},
     "output_type": "execute_result"
    }
   ],
   "source": [
    "all_groups.duplicated().sum()"
   ]
  },
  {
   "cell_type": "markdown",
   "id": "3407c492-c59a-4861-a3d6-415f3eed4264",
   "metadata": {},
   "source": [
    "Посмотрим на кол-во пользователей в каждой группе"
   ]
  },
  {
   "cell_type": "code",
   "execution_count": 79,
   "id": "0a78a691-7200-48bf-a62f-1e874d3e3a6f",
   "metadata": {},
   "outputs": [],
   "source": [
    "quan_group = all_groups.groupby('grp', as_index=False).size().rename(columns={'size':'quan'})"
   ]
  },
  {
   "cell_type": "code",
   "execution_count": 80,
   "id": "5b39365c-b8e9-41ef-80ea-a4b16d214971",
   "metadata": {},
   "outputs": [
    {
     "data": {
      "text/plain": [
       "<Axes: xlabel='grp', ylabel='quan'>"
      ]
     },
     "execution_count": 80,
     "metadata": {},
     "output_type": "execute_result"
    },
    {
     "data": {
      "image/png": "[encoded data removed]",
      "text/plain": [
       "<Figure size 640x480 with 1 Axes>"
      ]
     },
     "metadata": {},
     "output_type": "display_data"
    }
   ],
   "source": [
    "sns.barplot(quan_group, x='grp', y='quan')"
   ]
  },
  {
   "cell_type": "markdown",
   "id": "97effcab-fd9e-4034-b318-78be84271c3e",
   "metadata": {},
   "source": [
    "группы распределены не равномерно"
   ]
  },
  {
   "cell_type": "markdown",
   "id": "eb2b60c3-8252-4e81-bf4f-aea60c9ee97a",
   "metadata": {},
   "source": [
    "проверим распределние групп по пользователем которые были онлайн в эти дни. Для этого произведем inner join"
   ]
  },
  {
   "cell_type": "code",
   "execution_count": 110,
   "id": "4a6cb128-9e11-438f-a771-de3aa9ba32bf",
   "metadata": {},
   "outputs": [],
   "source": [
    "online_user_all_group = active_studs.merge(all_groups, how='left', left_on='student_id', right_on='id')"
   ]
  },
  {
   "cell_type": "code",
   "execution_count": 111,
   "id": "bd4ec2f8-7f90-4321-8973-5453578ec193",
   "metadata": {},
   "outputs": [
    {
     "data": {
      "text/plain": [
       "(8341, 3)"
      ]
     },
     "execution_count": 111,
     "metadata": {},
     "output_type": "execute_result"
    }
   ],
   "source": [
    "online_user_all_group.shape"
   ]
  },
  {
   "cell_type": "code",
   "execution_count": 112,
   "id": "f55c9a30-390f-4cd1-a5f4-85b34888f701",
   "metadata": {},
   "outputs": [
    {
     "data": {
      "text/html": [
       "<div>\n",
       "<style scoped>\n",
       "    .dataframe tbody tr th:only-of-type {\n",
       "        vertical-align: middle;\n",
       "    }\n",
       "\n",
       "    .dataframe tbody tr th {\n",
       "        vertical-align: top;\n",
       "    }\n",
       "\n",
       "    .dataframe thead th {\n",
       "        text-align: right;\n",
       "    }\n",
       "</style>\n",
       "<table border=\"1\" class=\"dataframe\">\n",
       "  <thead>\n",
       "    <tr style=\"text-align: right;\">\n",
       "      <th></th>\n",
       "      <th>student_id</th>\n",
       "      <th>id</th>\n",
       "      <th>grp</th>\n",
       "    </tr>\n",
       "  </thead>\n",
       "  <tbody>\n",
       "    <tr>\n",
       "      <th>0</th>\n",
       "      <td>581585</td>\n",
       "      <td>581585</td>\n",
       "      <td>A</td>\n",
       "    </tr>\n",
       "    <tr>\n",
       "      <th>1</th>\n",
       "      <td>5723133</td>\n",
       "      <td>5723133</td>\n",
       "      <td>A</td>\n",
       "    </tr>\n",
       "    <tr>\n",
       "      <th>2</th>\n",
       "      <td>3276743</td>\n",
       "      <td>3276743</td>\n",
       "      <td>B</td>\n",
       "    </tr>\n",
       "    <tr>\n",
       "      <th>3</th>\n",
       "      <td>4238589</td>\n",
       "      <td>4238589</td>\n",
       "      <td>A</td>\n",
       "    </tr>\n",
       "    <tr>\n",
       "      <th>4</th>\n",
       "      <td>4475369</td>\n",
       "      <td>4475369</td>\n",
       "      <td>B</td>\n",
       "    </tr>\n",
       "  </tbody>\n",
       "</table>\n",
       "</div>"
      ],
      "text/plain": [
       "   student_id       id grp\n",
       "0      581585   581585   A\n",
       "1     5723133  5723133   A\n",
       "2     3276743  3276743   B\n",
       "3     4238589  4238589   A\n",
       "4     4475369  4475369   B"
      ]
     },
     "execution_count": 112,
     "metadata": {},
     "output_type": "execute_result"
    }
   ],
   "source": [
    "online_user_all_group.head()"
   ]
  },
  {
   "cell_type": "code",
   "execution_count": 113,
   "id": "b5fdb6f5-a812-4c2e-aa5b-7fc666360f93",
   "metadata": {},
   "outputs": [],
   "source": [
    "online_user_all_group = online_user_all_group.drop(columns='id')"
   ]
  },
  {
   "cell_type": "code",
   "execution_count": 114,
   "id": "09c0a1a8-5544-4298-9d2c-1bdd403e2410",
   "metadata": {},
   "outputs": [
    {
     "data": {
      "text/html": [
       "<div>\n",
       "<style scoped>\n",
       "    .dataframe tbody tr th:only-of-type {\n",
       "        vertical-align: middle;\n",
       "    }\n",
       "\n",
       "    .dataframe tbody tr th {\n",
       "        vertical-align: top;\n",
       "    }\n",
       "\n",
       "    .dataframe thead th {\n",
       "        text-align: right;\n",
       "    }\n",
       "</style>\n",
       "<table border=\"1\" class=\"dataframe\">\n",
       "  <thead>\n",
       "    <tr style=\"text-align: right;\">\n",
       "      <th></th>\n",
       "      <th>student_id</th>\n",
       "      <th>grp</th>\n",
       "    </tr>\n",
       "  </thead>\n",
       "  <tbody>\n",
       "    <tr>\n",
       "      <th>0</th>\n",
       "      <td>581585</td>\n",
       "      <td>A</td>\n",
       "    </tr>\n",
       "    <tr>\n",
       "      <th>1</th>\n",
       "      <td>5723133</td>\n",
       "      <td>A</td>\n",
       "    </tr>\n",
       "    <tr>\n",
       "      <th>2</th>\n",
       "      <td>3276743</td>\n",
       "      <td>B</td>\n",
       "    </tr>\n",
       "    <tr>\n",
       "      <th>3</th>\n",
       "      <td>4238589</td>\n",
       "      <td>A</td>\n",
       "    </tr>\n",
       "    <tr>\n",
       "      <th>4</th>\n",
       "      <td>4475369</td>\n",
       "      <td>B</td>\n",
       "    </tr>\n",
       "  </tbody>\n",
       "</table>\n",
       "</div>"
      ],
      "text/plain": [
       "   student_id grp\n",
       "0      581585   A\n",
       "1     5723133   A\n",
       "2     3276743   B\n",
       "3     4238589   A\n",
       "4     4475369   B"
      ]
     },
     "execution_count": 114,
     "metadata": {},
     "output_type": "execute_result"
    }
   ],
   "source": [
    "online_user_all_group.head()"
   ]
  },
  {
   "cell_type": "code",
   "execution_count": 117,
   "id": "b8a6a277-7cb8-4f13-b21c-a65fdc35318b",
   "metadata": {},
   "outputs": [
    {
     "data": {
      "text/plain": [
       "grp\n",
       "B    6803\n",
       "A    1538\n",
       "Name: count, dtype: int64"
      ]
     },
     "execution_count": 117,
     "metadata": {},
     "output_type": "execute_result"
    }
   ],
   "source": [
    "online_user_all_group.grp.value_counts()"
   ]
  },
  {
   "cell_type": "code",
   "execution_count": 119,
   "id": "6274cc88-0b4b-4903-988c-a8f9446bafde",
   "metadata": {},
   "outputs": [
    {
     "data": {
      "text/plain": [
       "<Axes: xlabel='grp', ylabel='count'>"
      ]
     },
     "execution_count": 119,
     "metadata": {},
     "output_type": "execute_result"
    },
    {
     "data": {
      "image/png": "[encoded data removed]",
      "text/plain": [
       "<Figure size 640x480 with 1 Axes>"
      ]
     },
     "metadata": {},
     "output_type": "display_data"
    }
   ],
   "source": [
    "sns.barplot(online_user_all_group.grp.value_counts())"
   ]
  },
  {
   "cell_type": "markdown",
   "id": "9770de48-fb76-499f-9e1c-78c1655cfcfe",
   "metadata": {},
   "source": [
    "Соотношение количества пользователей, которые в день проведения эксперимента сделали покупку, в контрольной и тестовой группах осталось почти таким же."
   ]
  },
  {
   "cell_type": "markdown",
   "id": "6c591106-b29f-490a-9a8c-9e215e653e72",
   "metadata": {},
   "source": [
    "## Выбор метрики для тестирования, тестирование"
   ]
  },
  {
   "cell_type": "markdown",
   "id": "b5ff21db-9160-43d0-a924-120d690603ee",
   "metadata": {},
   "source": [
    "Наиболее важная метрика конверсия в оплату\\\n",
    "Далеепо считаем и сравним ARPPU и ARPU в 2 группах\n"
   ]
  },
  {
   "cell_type": "markdown",
   "id": "17bd640a-9187-4f70-bbeb-6b3772b024e0",
   "metadata": {},
   "source": [
    "для начла пометим всех пользователей которые совершили покупку"
   ]
  },
  {
   "cell_type": "code",
   "execution_count": 121,
   "id": "e5043de0-0dab-4f8c-8c33-64c215e3c2e2",
   "metadata": {},
   "outputs": [],
   "source": [
    "checks['paind'] = 1"
   ]
  },
  {
   "cell_type": "code",
   "execution_count": 122,
   "id": "900a83b2-dd1a-4640-9c50-eec519906c9b",
   "metadata": {},
   "outputs": [
    {
     "data": {
      "text/html": [
       "<div>\n",
       "<style scoped>\n",
       "    .dataframe tbody tr th:only-of-type {\n",
       "        vertical-align: middle;\n",
       "    }\n",
       "\n",
       "    .dataframe tbody tr th {\n",
       "        vertical-align: top;\n",
       "    }\n",
       "\n",
       "    .dataframe thead th {\n",
       "        text-align: right;\n",
       "    }\n",
       "</style>\n",
       "<table border=\"1\" class=\"dataframe\">\n",
       "  <thead>\n",
       "    <tr style=\"text-align: right;\">\n",
       "      <th></th>\n",
       "      <th>student_id</th>\n",
       "      <th>rev</th>\n",
       "      <th>paind</th>\n",
       "    </tr>\n",
       "  </thead>\n",
       "  <tbody>\n",
       "    <tr>\n",
       "      <th>0</th>\n",
       "      <td>1627</td>\n",
       "      <td>990.0</td>\n",
       "      <td>1</td>\n",
       "    </tr>\n",
       "    <tr>\n",
       "      <th>1</th>\n",
       "      <td>3185</td>\n",
       "      <td>690.0</td>\n",
       "      <td>1</td>\n",
       "    </tr>\n",
       "    <tr>\n",
       "      <th>2</th>\n",
       "      <td>25973</td>\n",
       "      <td>690.0</td>\n",
       "      <td>1</td>\n",
       "    </tr>\n",
       "    <tr>\n",
       "      <th>3</th>\n",
       "      <td>26280</td>\n",
       "      <td>690.0</td>\n",
       "      <td>1</td>\n",
       "    </tr>\n",
       "    <tr>\n",
       "      <th>4</th>\n",
       "      <td>100300</td>\n",
       "      <td>990.0</td>\n",
       "      <td>1</td>\n",
       "    </tr>\n",
       "  </tbody>\n",
       "</table>\n",
       "</div>"
      ],
      "text/plain": [
       "   student_id    rev  paind\n",
       "0        1627  990.0      1\n",
       "1        3185  690.0      1\n",
       "2       25973  690.0      1\n",
       "3       26280  690.0      1\n",
       "4      100300  990.0      1"
      ]
     },
     "execution_count": 122,
     "metadata": {},
     "output_type": "execute_result"
    }
   ],
   "source": [
    "checks.head()"
   ]
  },
  {
   "cell_type": "code",
   "execution_count": 125,
   "id": "fd920f54-a433-4d86-ba50-9227f411b42d",
   "metadata": {},
   "outputs": [
    {
     "data": {
      "text/html": [
       "<div>\n",
       "<style scoped>\n",
       "    .dataframe tbody tr th:only-of-type {\n",
       "        vertical-align: middle;\n",
       "    }\n",
       "\n",
       "    .dataframe tbody tr th {\n",
       "        vertical-align: top;\n",
       "    }\n",
       "\n",
       "    .dataframe thead th {\n",
       "        text-align: right;\n",
       "    }\n",
       "</style>\n",
       "<table border=\"1\" class=\"dataframe\">\n",
       "  <thead>\n",
       "    <tr style=\"text-align: right;\">\n",
       "      <th></th>\n",
       "      <th>student_id</th>\n",
       "      <th>grp</th>\n",
       "    </tr>\n",
       "  </thead>\n",
       "  <tbody>\n",
       "    <tr>\n",
       "      <th>0</th>\n",
       "      <td>581585</td>\n",
       "      <td>A</td>\n",
       "    </tr>\n",
       "    <tr>\n",
       "      <th>1</th>\n",
       "      <td>5723133</td>\n",
       "      <td>A</td>\n",
       "    </tr>\n",
       "    <tr>\n",
       "      <th>2</th>\n",
       "      <td>3276743</td>\n",
       "      <td>B</td>\n",
       "    </tr>\n",
       "    <tr>\n",
       "      <th>3</th>\n",
       "      <td>4238589</td>\n",
       "      <td>A</td>\n",
       "    </tr>\n",
       "    <tr>\n",
       "      <th>4</th>\n",
       "      <td>4475369</td>\n",
       "      <td>B</td>\n",
       "    </tr>\n",
       "  </tbody>\n",
       "</table>\n",
       "</div>"
      ],
      "text/plain": [
       "   student_id grp\n",
       "0      581585   A\n",
       "1     5723133   A\n",
       "2     3276743   B\n",
       "3     4238589   A\n",
       "4     4475369   B"
      ]
     },
     "execution_count": 125,
     "metadata": {},
     "output_type": "execute_result"
    }
   ],
   "source": [
    "online_user_all_group.head()"
   ]
  },
  {
   "cell_type": "code",
   "execution_count": 133,
   "id": "c275c67e-bbe2-47ef-b545-5cf6c41ac2a3",
   "metadata": {},
   "outputs": [],
   "source": [
    "paid_studs = online_user_all_group.merge(checks[['student_id', 'paind']], on='student_id', how='left')"
   ]
  },
  {
   "cell_type": "code",
   "execution_count": 134,
   "id": "a58f52bf-7d44-4a7d-a05a-a701f86f012b",
   "metadata": {},
   "outputs": [
    {
     "data": {
      "text/html": [
       "<div>\n",
       "<style scoped>\n",
       "    .dataframe tbody tr th:only-of-type {\n",
       "        vertical-align: middle;\n",
       "    }\n",
       "\n",
       "    .dataframe tbody tr th {\n",
       "        vertical-align: top;\n",
       "    }\n",
       "\n",
       "    .dataframe thead th {\n",
       "        text-align: right;\n",
       "    }\n",
       "</style>\n",
       "<table border=\"1\" class=\"dataframe\">\n",
       "  <thead>\n",
       "    <tr style=\"text-align: right;\">\n",
       "      <th></th>\n",
       "      <th>student_id</th>\n",
       "      <th>grp</th>\n",
       "      <th>paind</th>\n",
       "    </tr>\n",
       "  </thead>\n",
       "  <tbody>\n",
       "    <tr>\n",
       "      <th>0</th>\n",
       "      <td>581585</td>\n",
       "      <td>A</td>\n",
       "      <td>NaN</td>\n",
       "    </tr>\n",
       "    <tr>\n",
       "      <th>1</th>\n",
       "      <td>5723133</td>\n",
       "      <td>A</td>\n",
       "      <td>NaN</td>\n",
       "    </tr>\n",
       "    <tr>\n",
       "      <th>2</th>\n",
       "      <td>3276743</td>\n",
       "      <td>B</td>\n",
       "      <td>NaN</td>\n",
       "    </tr>\n",
       "    <tr>\n",
       "      <th>3</th>\n",
       "      <td>4238589</td>\n",
       "      <td>A</td>\n",
       "      <td>NaN</td>\n",
       "    </tr>\n",
       "    <tr>\n",
       "      <th>4</th>\n",
       "      <td>4475369</td>\n",
       "      <td>B</td>\n",
       "      <td>NaN</td>\n",
       "    </tr>\n",
       "  </tbody>\n",
       "</table>\n",
       "</div>"
      ],
      "text/plain": [
       "   student_id grp  paind\n",
       "0      581585   A    NaN\n",
       "1     5723133   A    NaN\n",
       "2     3276743   B    NaN\n",
       "3     4238589   A    NaN\n",
       "4     4475369   B    NaN"
      ]
     },
     "execution_count": 134,
     "metadata": {},
     "output_type": "execute_result"
    }
   ],
   "source": [
    "paid_studs.head()"
   ]
  },
  {
   "cell_type": "code",
   "execution_count": 136,
   "id": "6c862871-78ed-489d-b0db-355cbd7c925d",
   "metadata": {},
   "outputs": [],
   "source": [
    "paid_studs = paid_studs.fillna(0)"
   ]
  },
  {
   "cell_type": "code",
   "execution_count": 138,
   "id": "25c107d4-1e05-4876-95ad-5606d41a6d1e",
   "metadata": {},
   "outputs": [],
   "source": [
    "paid_studs['paind'] = paid_studs['paind'].astype('int')"
   ]
  },
  {
   "cell_type": "code",
   "execution_count": 139,
   "id": "9225ac66-9da2-4f19-81b3-db292179c429",
   "metadata": {},
   "outputs": [
    {
     "data": {
      "text/html": [
       "<div>\n",
       "<style scoped>\n",
       "    .dataframe tbody tr th:only-of-type {\n",
       "        vertical-align: middle;\n",
       "    }\n",
       "\n",
       "    .dataframe tbody tr th {\n",
       "        vertical-align: top;\n",
       "    }\n",
       "\n",
       "    .dataframe thead th {\n",
       "        text-align: right;\n",
       "    }\n",
       "</style>\n",
       "<table border=\"1\" class=\"dataframe\">\n",
       "  <thead>\n",
       "    <tr style=\"text-align: right;\">\n",
       "      <th></th>\n",
       "      <th>student_id</th>\n",
       "      <th>grp</th>\n",
       "      <th>paind</th>\n",
       "    </tr>\n",
       "  </thead>\n",
       "  <tbody>\n",
       "    <tr>\n",
       "      <th>0</th>\n",
       "      <td>581585</td>\n",
       "      <td>A</td>\n",
       "      <td>0</td>\n",
       "    </tr>\n",
       "    <tr>\n",
       "      <th>1</th>\n",
       "      <td>5723133</td>\n",
       "      <td>A</td>\n",
       "      <td>0</td>\n",
       "    </tr>\n",
       "    <tr>\n",
       "      <th>2</th>\n",
       "      <td>3276743</td>\n",
       "      <td>B</td>\n",
       "      <td>0</td>\n",
       "    </tr>\n",
       "    <tr>\n",
       "      <th>3</th>\n",
       "      <td>4238589</td>\n",
       "      <td>A</td>\n",
       "      <td>0</td>\n",
       "    </tr>\n",
       "    <tr>\n",
       "      <th>4</th>\n",
       "      <td>4475369</td>\n",
       "      <td>B</td>\n",
       "      <td>0</td>\n",
       "    </tr>\n",
       "  </tbody>\n",
       "</table>\n",
       "</div>"
      ],
      "text/plain": [
       "   student_id grp  paind\n",
       "0      581585   A      0\n",
       "1     5723133   A      0\n",
       "2     3276743   B      0\n",
       "3     4238589   A      0\n",
       "4     4475369   B      0"
      ]
     },
     "execution_count": 139,
     "metadata": {},
     "output_type": "execute_result"
    }
   ],
   "source": [
    "paid_studs.head()"
   ]
  },
  {
   "cell_type": "markdown",
   "id": "2803f726-f5e3-485d-8261-c8cea07bfcf9",
   "metadata": {},
   "source": [
    "посмотрим на на кол-во ползьзователей купивших и некупивших в 2 группах"
   ]
  },
  {
   "cell_type": "code",
   "execution_count": 140,
   "id": "c74a5127-4ec2-4198-b9e0-d6b8259b4c76",
   "metadata": {},
   "outputs": [
    {
     "data": {
      "text/html": [
       "<div>\n",
       "<style scoped>\n",
       "    .dataframe tbody tr th:only-of-type {\n",
       "        vertical-align: middle;\n",
       "    }\n",
       "\n",
       "    .dataframe tbody tr th {\n",
       "        vertical-align: top;\n",
       "    }\n",
       "\n",
       "    .dataframe thead th {\n",
       "        text-align: right;\n",
       "    }\n",
       "</style>\n",
       "<table border=\"1\" class=\"dataframe\">\n",
       "  <thead>\n",
       "    <tr style=\"text-align: right;\">\n",
       "      <th></th>\n",
       "      <th>grp</th>\n",
       "      <th>paind</th>\n",
       "      <th>count</th>\n",
       "    </tr>\n",
       "  </thead>\n",
       "  <tbody>\n",
       "    <tr>\n",
       "      <th>0</th>\n",
       "      <td>A</td>\n",
       "      <td>0</td>\n",
       "      <td>1460</td>\n",
       "    </tr>\n",
       "    <tr>\n",
       "      <th>1</th>\n",
       "      <td>A</td>\n",
       "      <td>1</td>\n",
       "      <td>78</td>\n",
       "    </tr>\n",
       "    <tr>\n",
       "      <th>2</th>\n",
       "      <td>B</td>\n",
       "      <td>0</td>\n",
       "      <td>6489</td>\n",
       "    </tr>\n",
       "    <tr>\n",
       "      <th>3</th>\n",
       "      <td>B</td>\n",
       "      <td>1</td>\n",
       "      <td>314</td>\n",
       "    </tr>\n",
       "  </tbody>\n",
       "</table>\n",
       "</div>"
      ],
      "text/plain": [
       "  grp  paind  count\n",
       "0   A      0   1460\n",
       "1   A      1     78\n",
       "2   B      0   6489\n",
       "3   B      1    314"
      ]
     },
     "execution_count": 140,
     "metadata": {},
     "output_type": "execute_result"
    }
   ],
   "source": [
    "paid_studs.groupby('grp', as_index=False)['paind'].value_counts()"
   ]
  },
  {
   "cell_type": "code",
   "execution_count": 150,
   "id": "03492e4a-fee0-4c1f-9ed2-abc71eed0453",
   "metadata": {},
   "outputs": [
    {
     "data": {
      "text/plain": [
       "(paind            0           1\n",
       " grp                           \n",
       " A      1465.718979   72.281021\n",
       " B      6483.281021  319.718979,\n",
       " paind       0      1\n",
       " grp                 \n",
       " A      1460.5   77.5\n",
       " B      6488.5  314.5,\n",
       "                  test    lambda      chi2  dof      pval    cramer     power\n",
       " 0             pearson  1.000000  0.484808  1.0  0.486252  0.007624  0.107123\n",
       " 1        cressie-read  0.666667  0.482018  1.0  0.487510  0.007602  0.106787\n",
       " 2      log-likelihood  0.000000  0.476541  1.0  0.489993  0.007559  0.106127\n",
       " 3       freeman-tukey -0.500000  0.472522  1.0  0.491829  0.007527  0.105643\n",
       " 4  mod-log-likelihood -1.000000  0.468578  1.0  0.493642  0.007495  0.105168\n",
       " 5              neyman -2.000000  0.460909  1.0  0.497200  0.007434  0.104245)"
      ]
     },
     "execution_count": 150,
     "metadata": {},
     "output_type": "execute_result"
    }
   ],
   "source": [
    "pg.chi2_independence(data=paid_studs, x='grp', y='paind')"
   ]
  },
  {
   "cell_type": "markdown",
   "id": "7fa31e46-ff07-4dc4-b769-deae8917e8a8",
   "metadata": {},
   "source": [
    "По результатам x²-теста независимости (p = 0.486), различия между контрольной (A) и тестовой (B) группами не являются статистически значимыми.\n",
    "\n",
    "Это говорит о том, что новая механика оплаты не оказала существенного влияния на поведение пользователей в рамках данного эксперимента."
   ]
  },
  {
   "cell_type": "markdown",
   "id": "1e4ccbf3-4420-44f3-8b80-3c214ed74c6a",
   "metadata": {},
   "source": [
    "### Проверим показатели среднее значение суммы покупки для двух групп, включающих в себя только платящих пользователей (ARPPU)"
   ]
  },
  {
   "cell_type": "code",
   "execution_count": 159,
   "id": "577acd72-de33-44dc-8d1f-20eaeb3224c7",
   "metadata": {},
   "outputs": [],
   "source": [
    "arppu_test = online_user_all_group.merge(checks, on='student_id').drop(columns='paind')"
   ]
  },
  {
   "cell_type": "code",
   "execution_count": 161,
   "id": "a9cb54ae-0647-4234-b5cb-924fd59e1742",
   "metadata": {},
   "outputs": [
    {
     "data": {
      "text/html": [
       "<div>\n",
       "<style scoped>\n",
       "    .dataframe tbody tr th:only-of-type {\n",
       "        vertical-align: middle;\n",
       "    }\n",
       "\n",
       "    .dataframe tbody tr th {\n",
       "        vertical-align: top;\n",
       "    }\n",
       "\n",
       "    .dataframe thead th {\n",
       "        text-align: right;\n",
       "    }\n",
       "</style>\n",
       "<table border=\"1\" class=\"dataframe\">\n",
       "  <thead>\n",
       "    <tr style=\"text-align: right;\">\n",
       "      <th></th>\n",
       "      <th>student_id</th>\n",
       "      <th>grp</th>\n",
       "      <th>rev</th>\n",
       "    </tr>\n",
       "  </thead>\n",
       "  <tbody>\n",
       "    <tr>\n",
       "      <th>0</th>\n",
       "      <td>1184303</td>\n",
       "      <td>A</td>\n",
       "      <td>1530.0000</td>\n",
       "    </tr>\n",
       "    <tr>\n",
       "      <th>1</th>\n",
       "      <td>3354191</td>\n",
       "      <td>B</td>\n",
       "      <td>1900.0001</td>\n",
       "    </tr>\n",
       "    <tr>\n",
       "      <th>2</th>\n",
       "      <td>3278734</td>\n",
       "      <td>B</td>\n",
       "      <td>1900.0000</td>\n",
       "    </tr>\n",
       "    <tr>\n",
       "      <th>3</th>\n",
       "      <td>720651</td>\n",
       "      <td>A</td>\n",
       "      <td>1980.0000</td>\n",
       "    </tr>\n",
       "    <tr>\n",
       "      <th>4</th>\n",
       "      <td>1232221</td>\n",
       "      <td>B</td>\n",
       "      <td>1900.0000</td>\n",
       "    </tr>\n",
       "  </tbody>\n",
       "</table>\n",
       "</div>"
      ],
      "text/plain": [
       "   student_id grp        rev\n",
       "0     1184303   A  1530.0000\n",
       "1     3354191   B  1900.0001\n",
       "2     3278734   B  1900.0000\n",
       "3      720651   A  1980.0000\n",
       "4     1232221   B  1900.0000"
      ]
     },
     "execution_count": 161,
     "metadata": {},
     "output_type": "execute_result"
    }
   ],
   "source": [
    "arppu_test.head()"
   ]
  },
  {
   "cell_type": "code",
   "execution_count": 163,
   "id": "7f2fb97e-4c87-49db-889f-d9bfc311b508",
   "metadata": {},
   "outputs": [
    {
     "data": {
      "text/plain": [
       "grp\n",
       "B    314\n",
       "A     78\n",
       "Name: count, dtype: int64"
      ]
     },
     "execution_count": 163,
     "metadata": {},
     "output_type": "execute_result"
    }
   ],
   "source": [
    "arppu_test.grp.value_counts()"
   ]
  },
  {
   "cell_type": "code",
   "execution_count": 166,
   "id": "8a80b106-d53e-4be5-a57f-f4346366aef1",
   "metadata": {},
   "outputs": [
    {
     "data": {
      "text/plain": [
       "<Axes: xlabel='rev', ylabel='Count'>"
      ]
     },
     "execution_count": 166,
     "metadata": {},
     "output_type": "execute_result"
    },
    {
     "data": {
      "image/png": "[encoded data removed]",
      "text/plain": [
       "<Figure size 640x480 with 1 Axes>"
      ]
     },
     "metadata": {},
     "output_type": "display_data"
    }
   ],
   "source": [
    "sns.histplot(x='rev', \n",
    "             data=arppu_test, \n",
    "             hue='grp')"
   ]
  },
  {
   "cell_type": "code",
   "execution_count": 172,
   "id": "8b2be801-f645-487d-ac21-a81ee94c1b79",
   "metadata": {},
   "outputs": [
    {
     "data": {
      "text/html": [
       "<div>\n",
       "<style scoped>\n",
       "    .dataframe tbody tr th:only-of-type {\n",
       "        vertical-align: middle;\n",
       "    }\n",
       "\n",
       "    .dataframe tbody tr th {\n",
       "        vertical-align: top;\n",
       "    }\n",
       "\n",
       "    .dataframe thead th {\n",
       "        text-align: right;\n",
       "    }\n",
       "</style>\n",
       "<table border=\"1\" class=\"dataframe\">\n",
       "  <thead>\n",
       "    <tr style=\"text-align: right;\">\n",
       "      <th></th>\n",
       "      <th>W</th>\n",
       "      <th>pval</th>\n",
       "      <th>normal</th>\n",
       "    </tr>\n",
       "    <tr>\n",
       "      <th>grp</th>\n",
       "      <th></th>\n",
       "      <th></th>\n",
       "      <th></th>\n",
       "    </tr>\n",
       "  </thead>\n",
       "  <tbody>\n",
       "    <tr>\n",
       "      <th>A</th>\n",
       "      <td>30.378420</td>\n",
       "      <td>2.531687e-07</td>\n",
       "      <td>False</td>\n",
       "    </tr>\n",
       "    <tr>\n",
       "      <th>B</th>\n",
       "      <td>6.795663</td>\n",
       "      <td>3.344572e-02</td>\n",
       "      <td>False</td>\n",
       "    </tr>\n",
       "  </tbody>\n",
       "</table>\n",
       "</div>"
      ],
      "text/plain": [
       "             W          pval  normal\n",
       "grp                                 \n",
       "A    30.378420  2.531687e-07   False\n",
       "B     6.795663  3.344572e-02   False"
      ]
     },
     "execution_count": 172,
     "metadata": {},
     "output_type": "execute_result"
    }
   ],
   "source": [
    "pg.normality(data=arppu_test, dv='rev', group='grp', method='normaltest')"
   ]
  },
  {
   "cell_type": "markdown",
   "id": "b70eef76-5ce9-456c-8639-28c6bebac03e",
   "metadata": {},
   "source": [
    "тест на нормальность показал False, но все же выборки > 30 (центральная предельная теорема работает!)"
   ]
  },
  {
   "cell_type": "markdown",
   "id": "ae314c51-5af4-4384-90f1-979493d3025d",
   "metadata": {},
   "source": [
    "Проверим гомоскедастичность "
   ]
  },
  {
   "cell_type": "code",
   "execution_count": 174,
   "id": "e09614f1-98e7-4705-b863-4ee3cbda3f9b",
   "metadata": {},
   "outputs": [
    {
     "data": {
      "text/html": [
       "<div>\n",
       "<style scoped>\n",
       "    .dataframe tbody tr th:only-of-type {\n",
       "        vertical-align: middle;\n",
       "    }\n",
       "\n",
       "    .dataframe tbody tr th {\n",
       "        vertical-align: top;\n",
       "    }\n",
       "\n",
       "    .dataframe thead th {\n",
       "        text-align: right;\n",
       "    }\n",
       "</style>\n",
       "<table border=\"1\" class=\"dataframe\">\n",
       "  <thead>\n",
       "    <tr style=\"text-align: right;\">\n",
       "      <th></th>\n",
       "      <th>W</th>\n",
       "      <th>pval</th>\n",
       "      <th>equal_var</th>\n",
       "    </tr>\n",
       "  </thead>\n",
       "  <tbody>\n",
       "    <tr>\n",
       "      <th>levene</th>\n",
       "      <td>3.075682</td>\n",
       "      <td>0.080257</td>\n",
       "      <td>True</td>\n",
       "    </tr>\n",
       "  </tbody>\n",
       "</table>\n",
       "</div>"
      ],
      "text/plain": [
       "               W      pval  equal_var\n",
       "levene  3.075682  0.080257       True"
      ]
     },
     "execution_count": 174,
     "metadata": {},
     "output_type": "execute_result"
    }
   ],
   "source": [
    "pg.homoscedasticity(data=arppu_test, dv='rev', group='grp')"
   ]
  },
  {
   "cell_type": "markdown",
   "id": "76cb0f34-ab57-4a11-983a-830c7d84811f",
   "metadata": {},
   "source": [
    "Дисперсии в группах A и B статистически не отличаются. Значит, условие гомоскедастичности выполняется."
   ]
  },
  {
   "cell_type": "markdown",
   "id": "8fd7f549-b244-4bae-b62f-8eef52b1fa0f",
   "metadata": {},
   "source": [
    "Можем применять t-тест Стьюдента \\\n",
    "H0: среднеие в группах равны \\\n",
    "H1: среднее вгрупах различается"
   ]
  },
  {
   "cell_type": "code",
   "execution_count": 194,
   "id": "6be9e081-9c39-44b6-8635-a7a5c61ffbfa",
   "metadata": {},
   "outputs": [],
   "source": [
    "group_a = arppu_test[arppu_test['grp'] == 'A']['rev']\n",
    "group_b = arppu_test[arppu_test['grp'] == 'B']['rev']"
   ]
  },
  {
   "cell_type": "code",
   "execution_count": null,
   "id": "9d98832d-7513-43ac-83ee-90e5a538ed2e",
   "metadata": {},
   "outputs": [],
   "source": []
  },
  {
   "cell_type": "code",
   "execution_count": 195,
   "id": "20219c3b-74d6-476d-8289-7541fdaddc96",
   "metadata": {},
   "outputs": [
    {
     "data": {
      "text/html": [
       "<div>\n",
       "<style scoped>\n",
       "    .dataframe tbody tr th:only-of-type {\n",
       "        vertical-align: middle;\n",
       "    }\n",
       "\n",
       "    .dataframe tbody tr th {\n",
       "        vertical-align: top;\n",
       "    }\n",
       "\n",
       "    .dataframe thead th {\n",
       "        text-align: right;\n",
       "    }\n",
       "</style>\n",
       "<table border=\"1\" class=\"dataframe\">\n",
       "  <thead>\n",
       "    <tr style=\"text-align: right;\">\n",
       "      <th></th>\n",
       "      <th>T</th>\n",
       "      <th>dof</th>\n",
       "      <th>alternative</th>\n",
       "      <th>p-val</th>\n",
       "      <th>CI95%</th>\n",
       "      <th>cohen-d</th>\n",
       "      <th>BF10</th>\n",
       "      <th>power</th>\n",
       "    </tr>\n",
       "  </thead>\n",
       "  <tbody>\n",
       "    <tr>\n",
       "      <th>T-test</th>\n",
       "      <td>-2.86169</td>\n",
       "      <td>106.981668</td>\n",
       "      <td>two-sided</td>\n",
       "      <td>0.00507</td>\n",
       "      <td>[-548.94, -99.64]</td>\n",
       "      <td>0.39646</td>\n",
       "      <td>6.536</td>\n",
       "      <td>0.878211</td>\n",
       "    </tr>\n",
       "  </tbody>\n",
       "</table>\n",
       "</div>"
      ],
      "text/plain": [
       "              T         dof alternative    p-val              CI95%  cohen-d  \\\n",
       "T-test -2.86169  106.981668   two-sided  0.00507  [-548.94, -99.64]  0.39646   \n",
       "\n",
       "         BF10     power  \n",
       "T-test  6.536  0.878211  "
      ]
     },
     "execution_count": 195,
     "metadata": {},
     "output_type": "execute_result"
    }
   ],
   "source": [
    "pg.ttest(x=group_a,y=group_b)"
   ]
  },
  {
   "cell_type": "markdown",
   "id": "e414f50a-986f-4de8-8ef7-1648095a1f15",
   "metadata": {},
   "source": [
    "p < 0.05 — разница статистически значимая. Отвергаем 0 гипотезу. среднее вгрупах различается"
   ]
  },
  {
   "cell_type": "code",
   "execution_count": 181,
   "id": "bd47e257-06fc-47be-bba2-a4fdc91563a2",
   "metadata": {},
   "outputs": [
    {
     "data": {
      "text/plain": [
       "<Axes: xlabel='grp', ylabel='rev'>"
      ]
     },
     "execution_count": 181,
     "metadata": {},
     "output_type": "execute_result"
    },
    {
     "data": {
      "image/png": "[encoded data removed]",
      "text/plain": [
       "<Figure size 640x480 with 1 Axes>"
      ]
     },
     "metadata": {},
     "output_type": "display_data"
    }
   ],
   "source": [
    "sns.pointplot(x='grp', y = 'rev', data = arppu_test)"
   ]
  },
  {
   "cell_type": "markdown",
   "id": "7dac0d09-a082-4fd6-98a8-433eb93bc41c",
   "metadata": {},
   "source": [
    "Группа B показала заметно выше среднее значение ARPPU, чем группа A. Интервалы не пересекаются"
   ]
  },
  {
   "cell_type": "markdown",
   "id": "fa2a2908-974b-41b0-9788-fbdec591e873",
   "metadata": {},
   "source": [
    "### Проверим среднее значение суммы покупки для двух групп, учитывая всех пользователей, участвовавших в день проведения эксперимента (ARPU)"
   ]
  },
  {
   "cell_type": "code",
   "execution_count": 185,
   "id": "dd2ae38a-b8e0-4b20-ae17-337e575f1892",
   "metadata": {},
   "outputs": [],
   "source": [
    "arpu_test = online_user_all_group.merge(checks, on='student_id', how='left').drop(columns='paind')\n",
    "arpu_test = arpu_test.fillna(0)"
   ]
  },
  {
   "cell_type": "code",
   "execution_count": 186,
   "id": "3911c191-81b5-4595-b087-7a480dac2099",
   "metadata": {},
   "outputs": [
    {
     "data": {
      "text/html": [
       "<div>\n",
       "<style scoped>\n",
       "    .dataframe tbody tr th:only-of-type {\n",
       "        vertical-align: middle;\n",
       "    }\n",
       "\n",
       "    .dataframe tbody tr th {\n",
       "        vertical-align: top;\n",
       "    }\n",
       "\n",
       "    .dataframe thead th {\n",
       "        text-align: right;\n",
       "    }\n",
       "</style>\n",
       "<table border=\"1\" class=\"dataframe\">\n",
       "  <thead>\n",
       "    <tr style=\"text-align: right;\">\n",
       "      <th></th>\n",
       "      <th>student_id</th>\n",
       "      <th>grp</th>\n",
       "      <th>rev</th>\n",
       "    </tr>\n",
       "  </thead>\n",
       "  <tbody>\n",
       "    <tr>\n",
       "      <th>0</th>\n",
       "      <td>581585</td>\n",
       "      <td>A</td>\n",
       "      <td>0.0</td>\n",
       "    </tr>\n",
       "    <tr>\n",
       "      <th>1</th>\n",
       "      <td>5723133</td>\n",
       "      <td>A</td>\n",
       "      <td>0.0</td>\n",
       "    </tr>\n",
       "    <tr>\n",
       "      <th>2</th>\n",
       "      <td>3276743</td>\n",
       "      <td>B</td>\n",
       "      <td>0.0</td>\n",
       "    </tr>\n",
       "    <tr>\n",
       "      <th>3</th>\n",
       "      <td>4238589</td>\n",
       "      <td>A</td>\n",
       "      <td>0.0</td>\n",
       "    </tr>\n",
       "    <tr>\n",
       "      <th>4</th>\n",
       "      <td>4475369</td>\n",
       "      <td>B</td>\n",
       "      <td>0.0</td>\n",
       "    </tr>\n",
       "  </tbody>\n",
       "</table>\n",
       "</div>"
      ],
      "text/plain": [
       "   student_id grp  rev\n",
       "0      581585   A  0.0\n",
       "1     5723133   A  0.0\n",
       "2     3276743   B  0.0\n",
       "3     4238589   A  0.0\n",
       "4     4475369   B  0.0"
      ]
     },
     "execution_count": 186,
     "metadata": {},
     "output_type": "execute_result"
    }
   ],
   "source": [
    "arpu_test.head()"
   ]
  },
  {
   "cell_type": "code",
   "execution_count": 188,
   "id": "7aa99a25-718d-4289-9315-23ec628b12d8",
   "metadata": {},
   "outputs": [
    {
     "data": {
      "text/plain": [
       "grp\n",
       "B    6803\n",
       "A    1538\n",
       "Name: count, dtype: int64"
      ]
     },
     "execution_count": 188,
     "metadata": {},
     "output_type": "execute_result"
    }
   ],
   "source": [
    "arpu_test.grp.value_counts()"
   ]
  },
  {
   "cell_type": "code",
   "execution_count": 189,
   "id": "3d5463f8-5521-4f02-ac0e-bb3fc280eee1",
   "metadata": {},
   "outputs": [
    {
     "data": {
      "text/plain": [
       "<Axes: xlabel='rev', ylabel='Count'>"
      ]
     },
     "execution_count": 189,
     "metadata": {},
     "output_type": "execute_result"
    },
    {
     "data": {
      "image/png": "[encoded data removed]",
      "text/plain": [
       "<Figure size 640x480 with 1 Axes>"
      ]
     },
     "metadata": {},
     "output_type": "display_data"
    }
   ],
   "source": [
    "sns.histplot(x='rev', \n",
    "             data=arpu_test, \n",
    "             hue='grp')"
   ]
  },
  {
   "cell_type": "markdown",
   "id": "6f35a208-00fe-4b9c-b83d-fcfb45657de1",
   "metadata": {},
   "source": [
    "выборки > 30 (центральная предельная теорема работает!)"
   ]
  },
  {
   "cell_type": "code",
   "execution_count": 191,
   "id": "b01b0326-ddaf-4b84-820a-9130e350331e",
   "metadata": {},
   "outputs": [
    {
     "data": {
      "text/html": [
       "<div>\n",
       "<style scoped>\n",
       "    .dataframe tbody tr th:only-of-type {\n",
       "        vertical-align: middle;\n",
       "    }\n",
       "\n",
       "    .dataframe tbody tr th {\n",
       "        vertical-align: top;\n",
       "    }\n",
       "\n",
       "    .dataframe thead th {\n",
       "        text-align: right;\n",
       "    }\n",
       "</style>\n",
       "<table border=\"1\" class=\"dataframe\">\n",
       "  <thead>\n",
       "    <tr style=\"text-align: right;\">\n",
       "      <th></th>\n",
       "      <th>W</th>\n",
       "      <th>pval</th>\n",
       "      <th>equal_var</th>\n",
       "    </tr>\n",
       "  </thead>\n",
       "  <tbody>\n",
       "    <tr>\n",
       "      <th>levene</th>\n",
       "      <td>1.501461</td>\n",
       "      <td>0.220481</td>\n",
       "      <td>True</td>\n",
       "    </tr>\n",
       "  </tbody>\n",
       "</table>\n",
       "</div>"
      ],
      "text/plain": [
       "               W      pval  equal_var\n",
       "levene  1.501461  0.220481       True"
      ]
     },
     "execution_count": 191,
     "metadata": {},
     "output_type": "execute_result"
    }
   ],
   "source": [
    "pg.homoscedasticity(data=arpu_test, dv='rev', group='grp')"
   ]
  },
  {
   "cell_type": "markdown",
   "id": "c21c2a5e-3e67-4a64-bdb8-c9b03adc0b48",
   "metadata": {},
   "source": [
    "Дисперсии в группах A и B статистически не отличаются. Значит, условие гомоскедастичности выполняется."
   ]
  },
  {
   "cell_type": "markdown",
   "id": "69492013-5ca5-49f4-80c0-740f95f98220",
   "metadata": {},
   "source": [
    "Можем применять t-тест Стьюдента\n",
    "H0: среднеие в группах равны\n",
    "H1: среднее вгрупах различается"
   ]
  },
  {
   "cell_type": "code",
   "execution_count": 197,
   "id": "a7961871-82f0-4f00-8558-060b527323b3",
   "metadata": {},
   "outputs": [],
   "source": [
    "group_a_arpu = arpu_test[arpu_test['grp'] == 'A']['rev']\n",
    "group_b_arpu = arpu_test[arpu_test['grp'] == 'B']['rev']"
   ]
  },
  {
   "cell_type": "code",
   "execution_count": 198,
   "id": "9b4c84f3-9277-4b00-954f-3fdf1628dfce",
   "metadata": {},
   "outputs": [
    {
     "data": {
      "text/html": [
       "<div>\n",
       "<style scoped>\n",
       "    .dataframe tbody tr th:only-of-type {\n",
       "        vertical-align: middle;\n",
       "    }\n",
       "\n",
       "    .dataframe tbody tr th {\n",
       "        vertical-align: top;\n",
       "    }\n",
       "\n",
       "    .dataframe thead th {\n",
       "        text-align: right;\n",
       "    }\n",
       "</style>\n",
       "<table border=\"1\" class=\"dataframe\">\n",
       "  <thead>\n",
       "    <tr style=\"text-align: right;\">\n",
       "      <th></th>\n",
       "      <th>T</th>\n",
       "      <th>dof</th>\n",
       "      <th>alternative</th>\n",
       "      <th>p-val</th>\n",
       "      <th>CI95%</th>\n",
       "      <th>cohen-d</th>\n",
       "      <th>BF10</th>\n",
       "      <th>power</th>\n",
       "    </tr>\n",
       "  </thead>\n",
       "  <tbody>\n",
       "    <tr>\n",
       "      <th>T-test</th>\n",
       "      <td>-1.286374</td>\n",
       "      <td>2416.748043</td>\n",
       "      <td>two-sided</td>\n",
       "      <td>0.198436</td>\n",
       "      <td>[-27.04, 5.62]</td>\n",
       "      <td>0.034597</td>\n",
       "      <td>0.073</td>\n",
       "      <td>0.231965</td>\n",
       "    </tr>\n",
       "  </tbody>\n",
       "</table>\n",
       "</div>"
      ],
      "text/plain": [
       "               T          dof alternative     p-val           CI95%   cohen-d  \\\n",
       "T-test -1.286374  2416.748043   two-sided  0.198436  [-27.04, 5.62]  0.034597   \n",
       "\n",
       "         BF10     power  \n",
       "T-test  0.073  0.231965  "
      ]
     },
     "execution_count": 198,
     "metadata": {},
     "output_type": "execute_result"
    }
   ],
   "source": [
    "pg.ttest(x=group_a_arpu,y=group_b_arpu)"
   ]
  },
  {
   "cell_type": "markdown",
   "id": "cd06e408-5648-483d-a5c6-7144a9e0491e",
   "metadata": {},
   "source": [
    "p < 0.05 — разница статистически значимая. Отвергаем 0 гипотезу. среднее вгрупах различается"
   ]
  },
  {
   "cell_type": "code",
   "execution_count": 199,
   "id": "ea478b83-9d78-4b3e-b921-e6a8e4c4c7be",
   "metadata": {},
   "outputs": [
    {
     "data": {
      "text/plain": [
       "<Axes: xlabel='grp', ylabel='rev'>"
      ]
     },
     "execution_count": 199,
     "metadata": {},
     "output_type": "execute_result"
    },
    {
     "data": {
      "image/png": "[encoded data removed]",
      "text/plain": [
       "<Figure size 640x480 with 1 Axes>"
      ]
     },
     "metadata": {},
     "output_type": "display_data"
    }
   ],
   "source": [
    "sns.pointplot(x='grp', y = 'rev', data = arpu_test)"
   ]
  },
  {
   "cell_type": "markdown",
   "id": "fde6fa09-c7d0-48ce-9074-e4bc087ae2ab",
   "metadata": {},
   "source": [
    "## Выводы:\n",
    "Для сравнения групп были взяты такие метрики как CR в оплату, ARPPU и ARPU. При тестировании конверсии с помощью критерия Хи-квадрат результат не дал стат.значимых различий, но при сравнении средних ARPPU и ARPU мы получили результат, который показывает, что эти показатели стат.значимо отличаются в контрольной и тестовой группах. В результате принимаем решения по выкатыванию новой механики оплаты."
   ]
  }
 ],
 "metadata": {
  "kernelspec": {
   "display_name": "Python [conda env:base] *",
   "language": "python",
   "name": "conda-base-py"
  },
  "language_info": {
   "codemirror_mode": {
    "name": "ipython",
    "version": 3
   },
   "file_extension": ".py",
   "mimetype": "text/x-python",
   "name": "python",
   "nbconvert_exporter": "python",
   "pygments_lexer": "ipython3",
   "version": "3.12.3"
  }
 },
 "nbformat": 4,
 "nbformat_minor": 5
}
